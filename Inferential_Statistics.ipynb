{
 "cells": [
  {
   "cell_type": "markdown",
   "id": "ed648a6a-d700-42f8-99fd-5ab7212f57d1",
   "metadata": {},
   "source": [
    "# Estimating the Population Mean"
   ]
  },
  {
   "cell_type": "code",
   "execution_count": 1,
   "id": "994ce0dc-ccb0-4dcf-9e8b-2cd9321bd3c1",
   "metadata": {},
   "outputs": [
    {
     "name": "stdout",
     "output_type": "stream",
     "text": [
      "Estimated Population Mean (Sample Mean): 166.12 cm\n"
     ]
    }
   ],
   "source": [
    "import numpy as np\n",
    "\n",
    "# Step 1: Generate Sample Data\n",
    "np.random.seed(42)  # Ensures reproducibility\n",
    "sample_heights = np.random.normal(loc=168, scale=10, size=30)  # Mean=168 cm, Std=10 cm, Sample Size=30\n",
    "\n",
    "# Step 2: Compute Sample Mean\n",
    "sample_mean = np.mean(sample_heights)\n",
    "\n",
    "# Step 3: Display the Estimate\n",
    "print(f\"Estimated Population Mean (Sample Mean): {sample_mean:.2f} cm\")"
   ]
  },
  {
   "cell_type": "markdown",
   "id": "117fadf8-0765-4d44-87e5-d42eb3742001",
   "metadata": {},
   "source": [
    "# Confidence Interval for the Mean"
   ]
  },
  {
   "cell_type": "code",
   "execution_count": 2,
   "id": "1a707aca-ef56-48ea-a8f7-1714e93ddca2",
   "metadata": {},
   "outputs": [
    {
     "name": "stdout",
     "output_type": "stream",
     "text": [
      "95% Confidence Interval: (162.76 cm, 169.48 cm)\n"
     ]
    }
   ],
   "source": [
    "import scipy.stats as stats\n",
    "\n",
    "# Step 1: Compute Sample Standard Deviation\n",
    "sample_std = np.std(sample_heights, ddof=1)  # Sample Standard Deviation\n",
    "\n",
    "# Step 2: Compute Critical t-value for 95% Confidence Interval\n",
    "n = len(sample_heights)\n",
    "confidence_level = 0.95\n",
    "alpha = 1 - confidence_level\n",
    "t_critical = stats.t.ppf(1 - alpha/2, df=n-1)  # Critical t-value\n",
    "\n",
    "# Step 3: Compute Margin of Error\n",
    "margin_of_error = t_critical * (sample_std / np.sqrt(n))\n",
    "\n",
    "# Step 4: Compute Confidence Interval\n",
    "lower_bound = sample_mean - margin_of_error\n",
    "upper_bound = sample_mean + margin_of_error\n",
    "\n",
    "# Step 5: Display Results\n",
    "print(f\"95% Confidence Interval: ({lower_bound:.2f} cm, {upper_bound:.2f} cm)\")"
   ]
  },
  {
   "cell_type": "markdown",
   "id": "7449dd1a-522f-4635-ba74-b24553749798",
   "metadata": {},
   "source": [
    "# One-Sample t-Test Example"
   ]
  },
  {
   "cell_type": "code",
   "execution_count": 3,
   "id": "ba6bae90-e55a-487e-8a14-7c175f61bf04",
   "metadata": {},
   "outputs": [
    {
     "name": "stdout",
     "output_type": "stream",
     "text": [
      "t-statistic: 1.90\n",
      "p-value: 0.0677\n",
      "Fail to reject the null hypothesis: No significant difference from 500g.\n"
     ]
    }
   ],
   "source": [
    "# Step 1: Define Hypothesized Population Mean\n",
    "mu_0 = 500  # Claimed population mean\n",
    "\n",
    "# Step 2: Generate Sample Data\n",
    "np.random.seed(42)\n",
    "sample_weights = np.random.normal(loc=505, scale=10, size=30)  # Actual Mean=505g\n",
    "\n",
    "# Step 3: Perform One-Sample t-Test\n",
    "t_statistic, p_value = stats.ttest_1samp(sample_weights, mu_0)\n",
    "\n",
    "# Step 4: Display Results\n",
    "print(f\"t-statistic: {t_statistic:.2f}\")\n",
    "print(f\"p-value: {p_value:.4f}\")\n",
    "\n",
    "# Step 5: Decision Rule\n",
    "alpha = 0.05\n",
    "if p_value < alpha:\n",
    "    print(\"Reject the null hypothesis: The average weight is significantly different from 500g.\")\n",
    "else:\n",
    "    print(\"Fail to reject the null hypothesis: No significant difference from 500g.\")"
   ]
  },
  {
   "cell_type": "markdown",
   "id": "2b232bcf-ff94-4218-ae30-a4dd3acef901",
   "metadata": {},
   "source": [
    "# Two-Sample t-Test (Comparing Two Groups)"
   ]
  },
  {
   "cell_type": "code",
   "execution_count": 4,
   "id": "bc5fd0ec-61ec-47e1-8e36-edc748294ac0",
   "metadata": {},
   "outputs": [
    {
     "name": "stdout",
     "output_type": "stream",
     "text": [
      "t-statistic: 2.25\n",
      "p-value: 0.0280\n",
      "Reject the null hypothesis: The two classes have significantly different scores.\n"
     ]
    }
   ],
   "source": [
    "# Step 1: Generate Sample Data\n",
    "np.random.seed(42)\n",
    "class_A = np.random.normal(loc=78, scale=5, size=30)  # Mean Score = 78\n",
    "class_B = np.random.normal(loc=75, scale=5, size=30)  # Mean Score = 75\n",
    "\n",
    "# Step 2: Perform Independent t-Test\n",
    "t_stat, p_val = stats.ttest_ind(class_A, class_B)\n",
    "\n",
    "# Step 3: Display Results\n",
    "print(f\"t-statistic: {t_stat:.2f}\")\n",
    "print(f\"p-value: {p_val:.4f}\")\n",
    "\n",
    "# Step 4: Decision Rule\n",
    "if p_val < alpha:\n",
    "    print(\"Reject the null hypothesis: The two classes have significantly different scores.\")\n",
    "else:\n",
    "    print(\"Fail to reject the null hypothesis: No significant difference in scores.\")"
   ]
  },
  {
   "cell_type": "markdown",
   "id": "9d04f8be-4c78-40fc-bf64-ba7105c7df88",
   "metadata": {},
   "source": [
    "# Chi-Square Test for Categorical Data"
   ]
  },
  {
   "cell_type": "code",
   "execution_count": 5,
   "id": "fa2dd4cd-977c-4d61-b187-de811b21659a",
   "metadata": {},
   "outputs": [
    {
     "name": "stdout",
     "output_type": "stream",
     "text": [
      "        Likes Product  Dislikes Product\n",
      "Male               20                15\n",
      "Female             10                25\n",
      "Chi-Square Statistic: 4.72\n",
      "p-value: 0.0297\n",
      "Reject the null hypothesis: There is a significant relationship between gender and preference.\n"
     ]
    }
   ],
   "source": [
    "# Testing Relationship Between Gender and Preference\n",
    "import pandas as pd\n",
    "\n",
    "# Create a contingency table\n",
    "observed = np.array([[20, 15], [10, 25]])  # Example Data\n",
    "df = pd.DataFrame(observed, columns=[\"Likes Product\", \"Dislikes Product\"], index=[\"Male\", \"Female\"])\n",
    "print(df)\n",
    "\n",
    "# Perform chi-square test\n",
    "chi2_stat, p_val, dof, expected = stats.chi2_contingency(observed)\n",
    "\n",
    "print(f\"Chi-Square Statistic: {chi2_stat:.2f}\")\n",
    "print(f\"p-value: {p_val:.4f}\")\n",
    "\n",
    "if p_val < alpha:\n",
    "    print(\"Reject the null hypothesis: There is a significant relationship between gender and preference.\")\n",
    "else:\n",
    "    print(\"Fail to reject the null hypothesis: No significant relationship between gender and preference.\")"
   ]
  },
  {
   "cell_type": "code",
   "execution_count": null,
   "id": "44ffd309-302b-4d15-b9e7-d5139d8c03ac",
   "metadata": {},
   "outputs": [],
   "source": []
  }
 ],
 "metadata": {
  "kernelspec": {
   "display_name": "Python 3 (ipykernel)",
   "language": "python",
   "name": "python3"
  },
  "language_info": {
   "codemirror_mode": {
    "name": "ipython",
    "version": 3
   },
   "file_extension": ".py",
   "mimetype": "text/x-python",
   "name": "python",
   "nbconvert_exporter": "python",
   "pygments_lexer": "ipython3",
   "version": "3.12.7"
  }
 },
 "nbformat": 4,
 "nbformat_minor": 5
}
